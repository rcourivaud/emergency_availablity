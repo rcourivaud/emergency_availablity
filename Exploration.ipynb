{
 "cells": [
  {
   "cell_type": "code",
   "execution_count": 77,
   "metadata": {},
   "outputs": [],
   "source": [
    "import random\n",
    "from dataclasses import dataclass, field"
   ]
  },
  {
   "cell_type": "code",
   "execution_count": 295,
   "metadata": {},
   "outputs": [],
   "source": [
    "def get_random_value(a=1, b=10):\n",
    "    return int(random.random()*b)+a"
   ]
  },
  {
   "cell_type": "code",
   "execution_count": 296,
   "metadata": {},
   "outputs": [],
   "source": [
    "class Clock:\n",
    "    \n",
    "    def get_now(self):\n",
    "        return datetime.now()"
   ]
  },
  {
   "cell_type": "code",
   "execution_count": 658,
   "metadata": {},
   "outputs": [],
   "source": [
    "from enum import Enum\n",
    "from typing import List, Tuple\n",
    "from datetime import datetime, timedelta\n",
    "\n",
    "class Status(str, Enum):\n",
    "    AVAILABLE = \"AVAILABLE\"\n",
    "    BUSY = \"BUSY\"\n",
    "\n",
    "    \n",
    "class MissionType(str, Enum):\n",
    "    AVP = \"AVP\"\n",
    "    \n",
    "clock = Clock()\n",
    "\n",
    "@dataclass\n",
    "class Mission:\n",
    "    type: MissionType = MissionType.AVP\n",
    "    started_at: datetime = field(default_factory= lambda: clock.get_now())\n",
    "    coordinates: Tuple[float, float] = (None, None)\n",
    "        \n",
    "    rand_value = get_random_value(3, 10)\n",
    "\n",
    "        \n",
    "    @property\n",
    "    def time_to_complete(self):\n",
    "        return  timedelta(seconds=self.rand_value)\n",
    "    \n",
    "    @property\n",
    "    def etc(self) -> timedelta :\n",
    "        diff = self.time_diff\n",
    "        return diff if diff > timedelta(0) else 0\n",
    "    \n",
    "    @property\n",
    "    def time_diff(self):\n",
    "        return self.started_at + self.time_to_complete - clock.get_now() \n",
    "    \n",
    "    def finished(self) -> bool:\n",
    "        if self.etc == 0 :\n",
    "            return True\n",
    "        else:\n",
    "            return False\n",
    "        \n",
    "\n",
    "@dataclass\n",
    "class Unite:\n",
    "    status:Status = Status.AVAILABLE\n",
    "    mission: Mission = None\n",
    "    rand_value = get_random_value(10, 20)\n",
    "    \n",
    "    @property\n",
    "    def time_to_complete(self):\n",
    "        return timedelta(seconds=self.rand_value)\n",
    "\n",
    "    @property\n",
    "    def eta(self) -> timedelta:\n",
    "        if self.mission:\n",
    "            diff = self.mission.time_diff + self.time_to_complete\n",
    "            if diff > timedelta(0):\n",
    "                return diff\n",
    "        return timedelta(0)\n",
    "    \n",
    "    def update(self) -> None:\n",
    "        if self.eta <= timedelta(0):\n",
    "            self.status = Status.AVAILABLE    \n",
    "        else:\n",
    "            self.status = Status.BUSY\n",
    "            \n",
    "    @property\n",
    "    def is_available(self) -> bool:\n",
    "        self.update()\n",
    "        return self.status is Status.AVAILABLE \n",
    "        \n",
    "        \n",
    "    def set_mission(self, mission: Mission):\n",
    "        self.mission = mission\n",
    "        self.status = Status.BUSY\n",
    "\n",
    "\n",
    "@dataclass\n",
    "class Caserne:\n",
    "    coordinates: Tuple[float, float]  = (3.14, 3.14)\n",
    "    unites: List[Unite] = field(default_factory=list)\n",
    "        \n",
    "        \n",
    "    def setup_unites(self, N=10):\n",
    "        self.unites = [Unite() for _ in range(N)]\n",
    "        \n",
    "    def get_available_unites(self) -> List[Unite]:\n",
    "        return [unite for unite in self.unites if unite.is_available]\n",
    "            \n",
    "    def process_mission(self, mission: Mission):\n",
    "        available_unites = self.get_available_unites()\n",
    "        if available_unites:\n",
    "            available_unites[0].set_mission(mission)\n",
    "        else:\n",
    "            raise \n",
    "        \n",
    "            "
   ]
  },
  {
   "cell_type": "code",
   "execution_count": 659,
   "metadata": {},
   "outputs": [],
   "source": [
    "c = Caserne()\n",
    "c.setup_unites()"
   ]
  },
  {
   "cell_type": "code",
   "execution_count": 670,
   "metadata": {},
   "outputs": [
    {
     "data": {
      "text/plain": [
       "[]"
      ]
     },
     "execution_count": 670,
     "metadata": {},
     "output_type": "execute_result"
    }
   ],
   "source": [
    "m = Mission()\n",
    "c.process_mission(m)\n",
    "c.get_available_unites()"
   ]
  },
  {
   "cell_type": "code",
   "execution_count": 677,
   "metadata": {},
   "outputs": [
    {
     "data": {
      "text/plain": [
       "[Unite(status=<Status.BUSY: 'BUSY'>, mission=Mission(type=<MissionType.AVP: 'AVP'>, started_at=datetime.datetime(2021, 8, 5, 11, 27, 23, 712325), coordinates=(None, None))),\n",
       " Unite(status=<Status.BUSY: 'BUSY'>, mission=Mission(type=<MissionType.AVP: 'AVP'>, started_at=datetime.datetime(2021, 8, 5, 11, 27, 27, 110772), coordinates=(None, None))),\n",
       " Unite(status=<Status.BUSY: 'BUSY'>, mission=Mission(type=<MissionType.AVP: 'AVP'>, started_at=datetime.datetime(2021, 8, 5, 11, 27, 27, 382018), coordinates=(None, None))),\n",
       " Unite(status=<Status.BUSY: 'BUSY'>, mission=Mission(type=<MissionType.AVP: 'AVP'>, started_at=datetime.datetime(2021, 8, 5, 11, 27, 27, 613788), coordinates=(None, None))),\n",
       " Unite(status=<Status.BUSY: 'BUSY'>, mission=Mission(type=<MissionType.AVP: 'AVP'>, started_at=datetime.datetime(2021, 8, 5, 11, 27, 27, 830002), coordinates=(None, None))),\n",
       " Unite(status=<Status.BUSY: 'BUSY'>, mission=Mission(type=<MissionType.AVP: 'AVP'>, started_at=datetime.datetime(2021, 8, 5, 11, 27, 28, 35235), coordinates=(None, None))),\n",
       " Unite(status=<Status.BUSY: 'BUSY'>, mission=Mission(type=<MissionType.AVP: 'AVP'>, started_at=datetime.datetime(2021, 8, 5, 11, 27, 28, 233887), coordinates=(None, None))),\n",
       " Unite(status=<Status.BUSY: 'BUSY'>, mission=Mission(type=<MissionType.AVP: 'AVP'>, started_at=datetime.datetime(2021, 8, 5, 11, 27, 28, 434909), coordinates=(None, None))),\n",
       " Unite(status=<Status.BUSY: 'BUSY'>, mission=Mission(type=<MissionType.AVP: 'AVP'>, started_at=datetime.datetime(2021, 8, 5, 11, 27, 28, 829991), coordinates=(None, None))),\n",
       " Unite(status=<Status.BUSY: 'BUSY'>, mission=Mission(type=<MissionType.AVP: 'AVP'>, started_at=datetime.datetime(2021, 8, 5, 11, 27, 29, 282259), coordinates=(None, None)))]"
      ]
     },
     "execution_count": 677,
     "metadata": {},
     "output_type": "execute_result"
    }
   ],
   "source": [
    "c.unites"
   ]
  },
  {
   "cell_type": "code",
   "execution_count": null,
   "metadata": {},
   "outputs": [],
   "source": []
  }
 ],
 "metadata": {
  "kernelspec": {
   "display_name": "Python 3",
   "language": "python",
   "name": "python3"
  },
  "language_info": {
   "codemirror_mode": {
    "name": "ipython",
    "version": 3
   },
   "file_extension": ".py",
   "mimetype": "text/x-python",
   "name": "python",
   "nbconvert_exporter": "python",
   "pygments_lexer": "ipython3",
   "version": "3.8.0"
  }
 },
 "nbformat": 4,
 "nbformat_minor": 2
}
