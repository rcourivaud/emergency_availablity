{
 "cells": [
  {
   "cell_type": "code",
   "execution_count": 47,
   "id": "8602ddc4",
   "metadata": {},
   "outputs": [
    {
     "name": "stdout",
     "output_type": "stream",
     "text": [
      "Requirement already satisfied: requests in /Users/raphael/anaconda3/envs/emergency_availability/lib/python3.8/site-packages (2.26.0)\n",
      "Requirement already satisfied: beautifulsoup4 in /Users/raphael/anaconda3/envs/emergency_availability/lib/python3.8/site-packages (4.9.3)\n",
      "Requirement already satisfied: requests_cache in /Users/raphael/anaconda3/envs/emergency_availability/lib/python3.8/site-packages (0.7.3)\n",
      "Collecting tqdm\n",
      "  Downloading tqdm-4.62.1-py2.py3-none-any.whl (76 kB)\n",
      "\u001b[K     |████████████████████████████████| 76 kB 2.2 MB/s eta 0:00:01\n",
      "\u001b[?25hRequirement already satisfied: idna<4,>=2.5 in /Users/raphael/anaconda3/envs/emergency_availability/lib/python3.8/site-packages (from requests) (3.2)\n",
      "Requirement already satisfied: urllib3<1.27,>=1.21.1 in /Users/raphael/anaconda3/envs/emergency_availability/lib/python3.8/site-packages (from requests) (1.26.6)\n",
      "Requirement already satisfied: certifi>=2017.4.17 in /Users/raphael/anaconda3/envs/emergency_availability/lib/python3.8/site-packages (from requests) (2021.5.30)\n",
      "Requirement already satisfied: charset-normalizer~=2.0.0 in /Users/raphael/anaconda3/envs/emergency_availability/lib/python3.8/site-packages (from requests) (2.0.4)\n",
      "Requirement already satisfied: soupsieve>1.2 in /Users/raphael/anaconda3/envs/emergency_availability/lib/python3.8/site-packages (from beautifulsoup4) (2.2.1)\n",
      "Requirement already satisfied: pyyaml>=5.4 in /Users/raphael/anaconda3/envs/emergency_availability/lib/python3.8/site-packages (from requests_cache) (5.4.1)\n",
      "Requirement already satisfied: url-normalize<2.0,>=1.4 in /Users/raphael/anaconda3/envs/emergency_availability/lib/python3.8/site-packages (from requests_cache) (1.4.3)\n",
      "Requirement already satisfied: attrs<22.0,>=21.2 in /Users/raphael/anaconda3/envs/emergency_availability/lib/python3.8/site-packages (from requests_cache) (21.2.0)\n",
      "Requirement already satisfied: itsdangerous>=2.0.1 in /Users/raphael/anaconda3/envs/emergency_availability/lib/python3.8/site-packages (from requests_cache) (2.0.1)\n",
      "Requirement already satisfied: six in /Users/raphael/anaconda3/envs/emergency_availability/lib/python3.8/site-packages (from url-normalize<2.0,>=1.4->requests_cache) (1.16.0)\n",
      "Installing collected packages: tqdm\n",
      "Successfully installed tqdm-4.62.1\n"
     ]
    }
   ],
   "source": [
    "!pip install requests beautifulsoup4 requests_cache tqdm "
   ]
  },
  {
   "cell_type": "code",
   "execution_count": 49,
   "id": "1c432b2c",
   "metadata": {},
   "outputs": [],
   "source": [
    "import requests as rq\n",
    "from bs4 import BeautifulSoup\n",
    "import requests_cache\n",
    "from tqdm.auto import tqdm \n",
    "\n",
    "requests_cache.install_cache(\"test\", expires_after=100000)"
   ]
  },
  {
   "cell_type": "code",
   "execution_count": 50,
   "id": "1f660489",
   "metadata": {},
   "outputs": [],
   "source": [
    "pages = list(range(1, 9))"
   ]
  },
  {
   "cell_type": "code",
   "execution_count": 51,
   "id": "3999bb6d",
   "metadata": {},
   "outputs": [],
   "source": [
    "def geocode(address):\n",
    "    response = rq.get(f\"https://api-adresse.data.gouv.fr/search/?q={address}&limit=1\")\n",
    "    return response.json()"
   ]
  },
  {
   "cell_type": "code",
   "execution_count": 52,
   "id": "f8d61475",
   "metadata": {},
   "outputs": [
    {
     "data": {
      "application/vnd.jupyter.widget-view+json": {
       "model_id": "e50af8f4f6c94eeeae501077258f8382",
       "version_major": 2,
       "version_minor": 0
      },
      "text/plain": [
       "  0%|          | 0/8 [00:00<?, ?it/s]"
      ]
     },
     "metadata": {},
     "output_type": "display_data"
    }
   ],
   "source": [
    "all_cis = []\n",
    "\n",
    "for page in tqdm(pages):\n",
    "    url = f\"https://www.sdis77.fr/point-d-interet/page/{page}\"\n",
    "\n",
    "    response = rq.get(url)\n",
    "    soup = BeautifulSoup(response.text)\n",
    "    for cis in soup.find_all(class_=\"line-body\"):\n",
    "        address = \" \".join(cis.find(class_=\"mt-lg-1x\").text.strip().split())\n",
    "        all_cis.append({\n",
    "            \"name\":\" \".join(cis.find(class_=\"line-title\").text.strip().split()),\n",
    "            \"address\":address, \n",
    "            \"geo\":geocode(address)\n",
    "        })"
   ]
  },
  {
   "cell_type": "code",
   "execution_count": 55,
   "id": "12f9c1ac",
   "metadata": {},
   "outputs": [],
   "source": [
    "import json"
   ]
  },
  {
   "cell_type": "code",
   "execution_count": 56,
   "id": "d92a814c",
   "metadata": {},
   "outputs": [],
   "source": [
    "with open(\"cis.77.json\", \"w\") as f:\n",
    "    json.dump(all_cis, f)"
   ]
  }
 ],
 "metadata": {
  "kernelspec": {
   "display_name": "Python 3",
   "language": "python",
   "name": "python3"
  },
  "language_info": {
   "codemirror_mode": {
    "name": "ipython",
    "version": 3
   },
   "file_extension": ".py",
   "mimetype": "text/x-python",
   "name": "python",
   "nbconvert_exporter": "python",
   "pygments_lexer": "ipython3",
   "version": "3.8.0"
  }
 },
 "nbformat": 4,
 "nbformat_minor": 5
}
